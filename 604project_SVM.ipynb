{
 "cells": [
  {
   "cell_type": "code",
   "execution_count": 1,
   "metadata": {
    "colab": {
     "base_uri": "https://localhost:8080/"
    },
    "executionInfo": {
     "elapsed": 441,
     "status": "ok",
     "timestamp": 1683237169363,
     "user": {
      "displayName": "Sushant Karki",
      "userId": "10159480926888285206"
     },
     "user_tz": 240
    },
    "id": "PBnCMkJpnqBX",
    "outputId": "a8e01316-fd83-4575-fa20-85c0fa3415eb"
   },
   "outputs": [],
   "source": [
    "# ! wget 'https://raw.githubusercontent.com/shyanne399/604_project/master/weight_diff.txt'"
   ]
  },
  {
   "cell_type": "code",
   "execution_count": 2,
   "metadata": {
    "executionInfo": {
     "elapsed": 1641,
     "status": "ok",
     "timestamp": 1683237171590,
     "user": {
      "displayName": "Sushant Karki",
      "userId": "10159480926888285206"
     },
     "user_tz": 240
    },
    "id": "FZ6CiG_qwzae"
   },
   "outputs": [],
   "source": [
    "import numpy as np\n",
    "import time\n",
    "import pandas as pd\n",
    "from sklearn import svm\n",
    "from sklearn.model_selection import GridSearchCV"
   ]
  },
  {
   "cell_type": "code",
   "execution_count": 3,
   "metadata": {
    "executionInfo": {
     "elapsed": 7,
     "status": "ok",
     "timestamp": 1683237171591,
     "user": {
      "displayName": "Sushant Karki",
      "userId": "10159480926888285206"
     },
     "user_tz": 240
    },
    "id": "RepviFUofg_0"
   },
   "outputs": [],
   "source": [
    "def puf_query(c, w):\n",
    "  n = c.shape[1]\n",
    "  phi = np.ones(n+1)\n",
    "  phi[n] = 1\n",
    "  for i in range(n-1, -1, -1):\n",
    "    phi[i] = (2*c[0,i]-1)*phi[i+1]\n",
    "    r = (np.dot(phi, w) > 0)\n",
    "  return r"
   ]
  },
  {
   "cell_type": "code",
   "execution_count": 4,
   "metadata": {
    "executionInfo": {
     "elapsed": 651,
     "status": "ok",
     "timestamp": 1683237172236,
     "user": {
      "displayName": "Sushant Karki",
      "userId": "10159480926888285206"
     },
     "user_tz": 240
    },
    "id": "3SMtPQIbuTvR"
   },
   "outputs": [],
   "source": [
    "target = 0.99 # The desired prediction rate\n",
    "n = 64 # number of stages in the PUF\n",
    "\n",
    "# Initialize the PUF\n",
    "np.random.seed(int(time.time()))\n",
    "data = np.loadtxt('./weight_diff.txt')\n",
    "w = np.zeros((n+1, 1))\n",
    "for i in range(1, n+2):\n",
    "  randi_offset = np.random.randint(1, 45481)\n",
    "  w[i-1] = data[randi_offset-1]\n",
    "  # print(len(data),data,data[randi_offset-1],randi_offset-1,w[i-1],w)"
   ]
  },
  {
   "cell_type": "code",
   "execution_count": 5,
   "metadata": {
    "executionInfo": {
     "elapsed": 8,
     "status": "ok",
     "timestamp": 1683237172237,
     "user": {
      "displayName": "Sushant Karki",
      "userId": "10159480926888285206"
     },
     "user_tz": 240
    },
    "id": "RrCrH8qx5tGX"
   },
   "outputs": [],
   "source": [
    "def calc_phi(select_bits):\n",
    "    phi_vals = []\n",
    "    for i in range(len(select_bits)):\n",
    "      target_slice = select_bits[i:]\n",
    "      zeros = [z for z in target_slice if z == 0]\n",
    "      phi = 1 if len(zeros) % 2 == 0 else -1\n",
    "      phi_vals.append(phi)\n",
    "    return np.array(phi_vals + [1])"
   ]
  },
  {
   "cell_type": "markdown",
   "metadata": {
    "id": "s4GPuNPhXJwZ"
   },
   "source": [
    "# gridsearchcv"
   ]
  },
  {
   "cell_type": "code",
   "execution_count": 6,
   "metadata": {
    "executionInfo": {
     "elapsed": 7,
     "status": "ok",
     "timestamp": 1683237172237,
     "user": {
      "displayName": "Sushant Karki",
      "userId": "10159480926888285206"
     },
     "user_tz": 240
    },
    "id": "x6a-qXAUXJDz"
   },
   "outputs": [],
   "source": [
    "# # gridsearchcv\n",
    "# training_size = [1000,3000,5000,8000,10000,12000]  # Number of training samples\n",
    "# X_train_list, y_train_list = [],[]\n",
    "\n",
    "# for items in training_size:\n",
    "#   X_train = np.random.randint(0, 2, size=(items, n))  # Random challenge vectors\n",
    "#   y_train = np.zeros((items, 1))  # Response bits\n",
    "#   for i in range(items):\n",
    "#     y_train[i] = puf_query(X_train[i].reshape(1, -1), w)\n",
    "#   X_train_list.append(X_train)\n",
    "#   y_train_list.append(y_train)"
   ]
  },
  {
   "cell_type": "code",
   "execution_count": 7,
   "metadata": {
    "executionInfo": {
     "elapsed": 7,
     "status": "ok",
     "timestamp": 1683237172238,
     "user": {
      "displayName": "Sushant Karki",
      "userId": "10159480926888285206"
     },
     "user_tz": 240
    },
    "id": "GvTzrgpIeudP"
   },
   "outputs": [],
   "source": [
    "# # gridsearchcv\n",
    "# training_size = [5000]  # Number of training samples\n",
    "# X_train_list, y_train_list = [],[]\n",
    "\n",
    "# for items in training_size:\n",
    "#   X_train = np.random.randint(0, 2, size=(items, n))  # Random challenge vectors\n",
    "#   y_train = np.zeros((items, 1))  # Response bits\n",
    "#   for i in range(items):\n",
    "#     y_train[i] = puf_query(X_train[i].reshape(1, -1), w)\n",
    "#   X_train_list.append(X_train)\n",
    "#   y_train_list.append(y_train)\n",
    "\n",
    "# c_range = np.arange(95,110,1)\n",
    "# gamma_range = np.arange(0.1,0.5,.1)\n",
    "# param_grid = {'C':c_range, 'gamma' : gamma_range}\n",
    "\n",
    "# for X_raw,y_train in zip(X_train_list,y_train_list):\n",
    "#   X_train_phi = np.apply_along_axis(calc_phi, 1, X_raw)\n",
    "#   X = np.array(X_train_phi)\n",
    "#   y = np.array([-1 if _y == 0 else 1 for _y in y_train])\n",
    "#   SVC = svm.SVC()\n",
    "#   grid = GridSearchCV(SVC,param_grid,refit=True,verbose=2)\n",
    "#   grid.fit(X, y)\n",
    "\n",
    "# print(grid.best_estimator_, len(X_raw),len(y_train))"
   ]
  },
  {
   "cell_type": "markdown",
   "metadata": {
    "id": "zU06sfrJva0a"
   },
   "source": [
    "# okay"
   ]
  },
  {
   "cell_type": "code",
   "execution_count": 8,
   "metadata": {
    "colab": {
     "base_uri": "https://localhost:8080/"
    },
    "executionInfo": {
     "elapsed": 19892,
     "status": "ok",
     "timestamp": 1683237495952,
     "user": {
      "displayName": "Sushant Karki",
      "userId": "10159480926888285206"
     },
     "user_tz": 240
    },
    "id": "2k6JSiEkszmZ",
    "outputId": "7e8395ac-95c4-4aba-e4fb-008b412b3688"
   },
   "outputs": [
    {
     "name": "stdout",
     "output_type": "stream",
     "text": [
      "Training time: 0.859375\n",
      "Training size: 5000\n",
      "Success rate: [0.9856]\n",
      "Effective training time: [44.859375]\n"
     ]
    }
   ],
   "source": [
    "# Evaluate your result\n",
    "\n",
    "training_size = 5000 # Number of training samples\n",
    "\n",
    "X_train = np.random.randint(0, 2, size=(training_size, n))  # Random challenge vectors\n",
    "y_train = np.zeros((training_size, 1))  # Response bits\n",
    "for i in range(training_size):\n",
    "  y_train[i] = puf_query(X_train[i].reshape(1, -1), w)\n",
    "\n",
    "X_train_phi = np.apply_along_axis(calc_phi, 1, X_train)\n",
    "\n",
    "t0 = time.process_time()\n",
    "X = np.array(X_train_phi)\n",
    "y = np.array([-1 if _y == 0 else 1 for _y in y_train])\n",
    "# c_range = [115,116,117]\n",
    "# gamma_range = [0.01,0.02,0.03]\n",
    "\n",
    "# for i in range(3):\n",
    "#   SVC = svm.SVC(C=c_range[i], gamma=gamma_range[i], kernel = 'linear')\n",
    "#   SVC.fit(X, y)\n",
    "\n",
    "SVC = svm.SVC(C=120, gamma=0.02, kernel = 'linear')\n",
    "SVC.fit(X, y)\n",
    "\n",
    "t1 = time.process_time()\n",
    "\n",
    "training_time = t1 - t0\n",
    "print(\"Training time:\", training_time)\n",
    "print(\"Training size:\", training_size)\n",
    "\n",
    "correct = 0\n",
    "w0 = SVC.coef_[0]\n",
    "\n",
    "n_test = 10000\n",
    "for i in range(1, n_test+1):\n",
    "  c_test = np.random.randint(0, 2, size=(1, n)) # a random challenge vector\n",
    "  r = puf_query(c_test, w)\n",
    "  r0 = puf_query(c_test, w0)\n",
    "  correct += (r==r0)\n",
    "success_rate = correct/n_test\n",
    "print(\"Success rate:\", success_rate)\n",
    "\n",
    "\n",
    "# If the success rate is less than 99%, a penalty time will be added\n",
    "# One second is add for each 0.01% below 99%.\n",
    "effective_training_time = training_time\n",
    "if success_rate < 0.99:\n",
    "  effective_training_time = training_time + 10000*(0.99-success_rate)\n",
    "print(\"Effective training time:\", effective_training_time)"
   ]
  },
  {
   "cell_type": "code",
   "execution_count": null,
   "metadata": {
    "executionInfo": {
     "elapsed": 6,
     "status": "ok",
     "timestamp": 1683237194672,
     "user": {
      "displayName": "Sushant Karki",
      "userId": "10159480926888285206"
     },
     "user_tz": 240
    },
    "id": "u41cu5REv96y"
   },
   "outputs": [],
   "source": []
  },
  {
   "cell_type": "code",
   "execution_count": null,
   "metadata": {
    "executionInfo": {
     "elapsed": 5,
     "status": "ok",
     "timestamp": 1683237194672,
     "user": {
      "displayName": "Sushant Karki",
      "userId": "10159480926888285206"
     },
     "user_tz": 240
    },
    "id": "cUGhvyJGv96y"
   },
   "outputs": [],
   "source": []
  }
 ],
 "metadata": {
  "colab": {
   "collapsed_sections": [
    "s4GPuNPhXJwZ"
   ],
   "provenance": []
  },
  "gpuClass": "standard",
  "kernelspec": {
   "display_name": "Python 3 (ipykernel)",
   "language": "python",
   "name": "python3"
  },
  "language_info": {
   "codemirror_mode": {
    "name": "ipython",
    "version": 3
   },
   "file_extension": ".py",
   "mimetype": "text/x-python",
   "name": "python",
   "nbconvert_exporter": "python",
   "pygments_lexer": "ipython3",
   "version": "3.10.9"
  }
 },
 "nbformat": 4,
 "nbformat_minor": 1
}
